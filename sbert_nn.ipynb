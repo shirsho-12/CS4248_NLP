{
 "cells": [
  {
   "cell_type": "code",
   "execution_count": 1,
   "metadata": {},
   "outputs": [],
   "source": [
    "import pandas as pd\n",
    "data = pd.read_csv(\"./ELCo/ELCo.csv\")\n",
    "emoji = data[\"Emoji\"].values\n",
    "english = data[\"English\"].values"
   ]
  },
  {
   "cell_type": "code",
   "execution_count": 2,
   "metadata": {},
   "outputs": [],
   "source": [
    "import re\n",
    "for i in range(len(emoji)):\n",
    "    text = emoji[i]\n",
    "    pattern = r\"(?<=\\[EM\\])[^[]+?(?=\\[EM\\])\"\n",
    "    matches = re.findall(pattern, text)\n",
    "    result = ' '.join(match.replace('-', ' ') for match in matches)\n",
    "    emoji[i] = result"
   ]
  },
  {
   "cell_type": "code",
   "execution_count": 3,
   "metadata": {},
   "outputs": [],
   "source": [
    "# emoji text to vector\n",
    "from keras import utils\n",
    "from keras.preprocessing import text\n",
    "import numpy as np\n",
    "\n",
    "# X = np.append(emoji, english)\n",
    "\n",
    "tokenizer = text.Tokenizer()\n",
    "tokenizer.fit_on_texts(emoji)\n",
    "sequences = tokenizer.texts_to_sequences(emoji)\n",
    "\n",
    "emoji_num = utils.pad_sequences(sequences, maxlen=30, padding='post') # max length is actually 33\n",
    "\n",
    "# emoji_num = X[:len(emoji)].copy()\n",
    "# english_num = sequences[len(emoji):][0:2].copy()"
   ]
  },
  {
   "cell_type": "code",
   "execution_count": 4,
   "metadata": {},
   "outputs": [
    {
     "name": "stderr",
     "output_type": "stream",
     "text": [
      "/Users/xumingda/miniforge3/envs/tf3/lib/python3.9/site-packages/tqdm/auto.py:21: TqdmWarning: IProgress not found. Please update jupyter and ipywidgets. See https://ipywidgets.readthedocs.io/en/stable/user_install.html\n",
      "  from .autonotebook import tqdm as notebook_tqdm\n"
     ]
    }
   ],
   "source": [
    "from sentence_transformers import SentenceTransformer\n",
    "# sentences = [\"This is an example sentence\", \"Each sentence is converted\"]\n",
    "sbert_model = SentenceTransformer('sentence-transformers/all-mpnet-base-v2')\n",
    "# embeddings = model.encode(sentences)\n",
    "# print(embeddings)\n",
    "english_embeddings = sbert_model.encode(english)"
   ]
  },
  {
   "cell_type": "code",
   "execution_count": 5,
   "metadata": {},
   "outputs": [],
   "source": [
    "# stratified validation set\n",
    "val_list = []\n",
    "train_list = []\n",
    "cmp = ''\n",
    "for i in range(len(english)):\n",
    "    if english[i] != cmp:\n",
    "        val_list.append(i)\n",
    "        cmp = english[i]\n",
    "    else:\n",
    "        train_list.append(i)"
   ]
  },
  {
   "cell_type": "code",
   "execution_count": 6,
   "metadata": {},
   "outputs": [],
   "source": [
    "X_train = emoji_num[train_list][:]\n",
    "y_train = english_embeddings[train_list][:]\n",
    "X_val = emoji_num[val_list][:]\n",
    "y_val = english_embeddings[val_list][:]"
   ]
  },
  {
   "cell_type": "code",
   "execution_count": 10,
   "metadata": {},
   "outputs": [],
   "source": [
    "from keras.models import Sequential\n",
    "from keras.layers import Dense, Dropout\n",
    "from keras.layers import Embedding, Flatten, SimpleRNN, LSTM, Conv1D, MaxPooling1D\n",
    "\n",
    "model = Sequential()\n",
    "\n",
    "model.add(Embedding(1000, 32, input_length=30))\n",
    "model.add(Dropout(0.5))\n",
    "\n",
    "# model.add(Conv1D(64, 3, padding='same', activation='relu', strides=1))\n",
    "# model.add(MaxPooling1D())\n",
    "# model.add(Dropout(0.5))\n",
    "model.add(Flatten())\n",
    "\n",
    "model.add(Dense(64, activation='relu'))\n",
    "\n",
    "model.add(Dense(768, activation='linear'))\n",
    "\n",
    "# model.summary()"
   ]
  },
  {
   "cell_type": "code",
   "execution_count": 11,
   "metadata": {},
   "outputs": [],
   "source": [
    "model.compile(optimizer='Adam', loss='cosine_similarity')"
   ]
  },
  {
   "cell_type": "code",
   "execution_count": 12,
   "metadata": {},
   "outputs": [
    {
     "name": "stdout",
     "output_type": "stream",
     "text": [
      "Epoch 1/50\n"
     ]
    },
    {
     "name": "stderr",
     "output_type": "stream",
     "text": [
      "2023-03-31 14:50:55.626729: I tensorflow/core/grappler/optimizers/custom_graph_optimizer_registry.cc:114] Plugin optimizer for device_type GPU is enabled.\n"
     ]
    },
    {
     "name": "stdout",
     "output_type": "stream",
     "text": [
      "182/182 [==============================] - 2s 10ms/step - loss: -0.3952 - val_loss: -0.4218\n",
      "Epoch 2/50\n",
      "  9/182 [>.............................] - ETA: 1s - loss: -0.4289"
     ]
    },
    {
     "name": "stderr",
     "output_type": "stream",
     "text": [
      "2023-03-31 14:50:57.480212: I tensorflow/core/grappler/optimizers/custom_graph_optimizer_registry.cc:114] Plugin optimizer for device_type GPU is enabled.\n"
     ]
    },
    {
     "name": "stdout",
     "output_type": "stream",
     "text": [
      "182/182 [==============================] - 1s 7ms/step - loss: -0.4288 - val_loss: -0.4419\n",
      "Epoch 3/50\n",
      "182/182 [==============================] - 1s 7ms/step - loss: -0.4693 - val_loss: -0.4751\n",
      "Epoch 4/50\n",
      "182/182 [==============================] - 1s 7ms/step - loss: -0.5129 - val_loss: -0.4934\n",
      "Epoch 5/50\n",
      "182/182 [==============================] - 1s 7ms/step - loss: -0.5465 - val_loss: -0.5061\n",
      "Epoch 6/50\n",
      "182/182 [==============================] - 1s 7ms/step - loss: -0.5747 - val_loss: -0.5187\n",
      "Epoch 7/50\n",
      "182/182 [==============================] - 1s 8ms/step - loss: -0.5988 - val_loss: -0.5206\n",
      "Epoch 8/50\n",
      "182/182 [==============================] - 1s 7ms/step - loss: -0.6195 - val_loss: -0.5267\n",
      "Epoch 9/50\n",
      "182/182 [==============================] - 1s 7ms/step - loss: -0.6381 - val_loss: -0.5287\n",
      "Epoch 10/50\n",
      "182/182 [==============================] - 1s 7ms/step - loss: -0.6499 - val_loss: -0.5301\n",
      "Epoch 11/50\n",
      "182/182 [==============================] - 1s 8ms/step - loss: -0.6623 - val_loss: -0.5334\n",
      "Epoch 12/50\n",
      "182/182 [==============================] - 1s 8ms/step - loss: -0.6706 - val_loss: -0.5292\n",
      "Epoch 13/50\n",
      "182/182 [==============================] - 1s 7ms/step - loss: -0.6814 - val_loss: -0.5255\n",
      "Epoch 14/50\n",
      "182/182 [==============================] - 1s 7ms/step - loss: -0.6893 - val_loss: -0.5328\n",
      "Epoch 15/50\n",
      "182/182 [==============================] - 1s 7ms/step - loss: -0.6975 - val_loss: -0.5277\n",
      "Epoch 16/50\n",
      "182/182 [==============================] - 1s 7ms/step - loss: -0.6997 - val_loss: -0.5348\n",
      "Epoch 17/50\n",
      "182/182 [==============================] - 1s 7ms/step - loss: -0.7094 - val_loss: -0.5378\n",
      "Epoch 18/50\n",
      "182/182 [==============================] - 1s 7ms/step - loss: -0.7142 - val_loss: -0.5351\n",
      "Epoch 19/50\n",
      "182/182 [==============================] - 1s 7ms/step - loss: -0.7178 - val_loss: -0.5393\n",
      "Epoch 20/50\n",
      "182/182 [==============================] - 1s 7ms/step - loss: -0.7223 - val_loss: -0.5290\n",
      "Epoch 21/50\n",
      "182/182 [==============================] - 1s 7ms/step - loss: -0.7262 - val_loss: -0.5350\n",
      "Epoch 22/50\n",
      "182/182 [==============================] - 1s 7ms/step - loss: -0.7296 - val_loss: -0.5374\n",
      "Epoch 23/50\n",
      "182/182 [==============================] - 1s 7ms/step - loss: -0.7349 - val_loss: -0.5235\n",
      "Epoch 24/50\n",
      "182/182 [==============================] - 1s 7ms/step - loss: -0.7371 - val_loss: -0.5287\n",
      "Epoch 25/50\n",
      "182/182 [==============================] - 1s 7ms/step - loss: -0.7383 - val_loss: -0.5363\n",
      "Epoch 26/50\n",
      "182/182 [==============================] - 1s 7ms/step - loss: -0.7430 - val_loss: -0.5286\n",
      "Epoch 27/50\n",
      "182/182 [==============================] - 1s 7ms/step - loss: -0.7450 - val_loss: -0.5361\n",
      "Epoch 28/50\n",
      "182/182 [==============================] - 1s 7ms/step - loss: -0.7468 - val_loss: -0.5237\n",
      "Epoch 29/50\n",
      "182/182 [==============================] - 1s 7ms/step - loss: -0.7496 - val_loss: -0.5263\n",
      "Epoch 30/50\n",
      "182/182 [==============================] - 1s 7ms/step - loss: -0.7532 - val_loss: -0.5280\n",
      "Epoch 31/50\n",
      "182/182 [==============================] - 1s 7ms/step - loss: -0.7572 - val_loss: -0.5340\n",
      "Epoch 32/50\n",
      "182/182 [==============================] - 1s 7ms/step - loss: -0.7551 - val_loss: -0.5317\n",
      "Epoch 33/50\n",
      "182/182 [==============================] - 1s 7ms/step - loss: -0.7586 - val_loss: -0.5336\n",
      "Epoch 34/50\n",
      "182/182 [==============================] - 1s 7ms/step - loss: -0.7600 - val_loss: -0.5365\n",
      "Epoch 35/50\n",
      "182/182 [==============================] - 1s 7ms/step - loss: -0.7634 - val_loss: -0.5258\n",
      "Epoch 36/50\n",
      "182/182 [==============================] - 1s 7ms/step - loss: -0.7648 - val_loss: -0.5328\n",
      "Epoch 37/50\n",
      "182/182 [==============================] - 1s 7ms/step - loss: -0.7658 - val_loss: -0.5368\n",
      "Epoch 38/50\n",
      "182/182 [==============================] - 1s 7ms/step - loss: -0.7672 - val_loss: -0.5308\n",
      "Epoch 39/50\n",
      "182/182 [==============================] - 1s 7ms/step - loss: -0.7691 - val_loss: -0.5296\n",
      "Epoch 40/50\n",
      "182/182 [==============================] - 1s 7ms/step - loss: -0.7709 - val_loss: -0.5286\n",
      "Epoch 41/50\n",
      "182/182 [==============================] - 1s 7ms/step - loss: -0.7716 - val_loss: -0.5349\n",
      "Epoch 42/50\n",
      "182/182 [==============================] - 1s 7ms/step - loss: -0.7705 - val_loss: -0.5332\n",
      "Epoch 43/50\n",
      "182/182 [==============================] - 1s 7ms/step - loss: -0.7738 - val_loss: -0.5292\n",
      "Epoch 44/50\n",
      "182/182 [==============================] - 1s 7ms/step - loss: -0.7747 - val_loss: -0.5369\n",
      "Epoch 45/50\n",
      "182/182 [==============================] - 1s 7ms/step - loss: -0.7769 - val_loss: -0.5244\n",
      "Epoch 46/50\n",
      "182/182 [==============================] - 1s 7ms/step - loss: -0.7783 - val_loss: -0.5440\n",
      "Epoch 47/50\n",
      "182/182 [==============================] - 1s 7ms/step - loss: -0.7796 - val_loss: -0.5251\n",
      "Epoch 48/50\n",
      "182/182 [==============================] - 1s 7ms/step - loss: -0.7822 - val_loss: -0.5245\n",
      "Epoch 49/50\n",
      "182/182 [==============================] - 1s 7ms/step - loss: -0.7806 - val_loss: -0.5286\n",
      "Epoch 50/50\n",
      "182/182 [==============================] - 1s 7ms/step - loss: -0.7804 - val_loss: -0.5233\n"
     ]
    }
   ],
   "source": [
    "history = model.fit(X_train, y_train, validation_data=(X_val, y_val), epochs=50, batch_size=8)"
   ]
  },
  {
   "cell_type": "code",
   "execution_count": 16,
   "metadata": {},
   "outputs": [
    {
     "data": {
      "image/png": "[encoded data removed]",
      "text/plain": [
       "<Figure size 640x480 with 1 Axes>"
      ]
     },
     "metadata": {},
     "output_type": "display_data"
    }
   ],
   "source": [
    "from matplotlib import pyplot as plt\n",
    "plt.plot(history.epoch, history.history['loss'])\n",
    "plt.plot(history.epoch, history.history['val_loss'])\n",
    "plt.show()"
   ]
  },
  {
   "cell_type": "code",
   "execution_count": 17,
   "metadata": {},
   "outputs": [
    {
     "name": "stdout",
     "output_type": "stream",
     "text": [
      "7/7 [==============================] - 0s 5ms/step\n"
     ]
    },
    {
     "name": "stderr",
     "output_type": "stream",
     "text": [
      "2023-03-31 15:06:02.530251: I tensorflow/core/grappler/optimizers/custom_graph_optimizer_registry.cc:114] Plugin optimizer for device_type GPU is enabled.\n"
     ]
    }
   ],
   "source": [
    "y_pred = model.predict(X_val)"
   ]
  },
  {
   "cell_type": "code",
   "execution_count": 18,
   "metadata": {},
   "outputs": [],
   "source": [
    "def cal_cos_similarity(x, y):\n",
    "    cos = x.dot(y) / (np.linalg.norm(x) * np.linalg.norm(y))\n",
    "    return cos"
   ]
  },
  {
   "cell_type": "code",
   "execution_count": 32,
   "metadata": {},
   "outputs": [],
   "source": [
    "english_set = english[val_list]\n",
    "cos_sim = np.zeros((210,210))\n",
    "for i in range(210):\n",
    "    for j in range(210):\n",
    "        cos_sim[i][j] = cal_cos_similarity(y_pred[i], y_val[j])\n",
    "\n",
    "cos_sim_index = np.argsort(-cos_sim, axis=1)"
   ]
  },
  {
   "cell_type": "code",
   "execution_count": 41,
   "metadata": {},
   "outputs": [
    {
     "name": "stdout",
     "output_type": "stream",
     "text": [
      "50\n",
      "59\n",
      "82\n",
      "106\n",
      "177\n",
      "185\n",
      "0.21428571428571427 0.47619047619047616\n"
     ]
    }
   ],
   "source": [
    "top1 = 0; top5 = 0\n",
    "for i in range(210):\n",
    "    if i == cos_sim_index[i][0]:\n",
    "        top1 += 1\n",
    "    if i in cos_sim_index[i][0:5]:\n",
    "        top5 += 1\n",
    "    # if i not in cos_sim_index[i][0:200]:\n",
    "    #     print(i)\n",
    "print(top1/210, top5/210)"
   ]
  }
 ],
 "metadata": {
  "kernelspec": {
   "display_name": "tf3",
   "language": "python",
   "name": "python3"
  },
  "language_info": {
   "codemirror_mode": {
    "name": "ipython",
    "version": 3
   },
   "file_extension": ".py",
   "mimetype": "text/x-python",
   "name": "python",
   "nbconvert_exporter": "python",
   "pygments_lexer": "ipython3",
   "version": "3.9.13"
  },
  "orig_nbformat": 4
 },
 "nbformat": 4,
 "nbformat_minor": 2
}
