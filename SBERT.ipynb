{
 "cells": [
  {
   "cell_type": "code",
   "execution_count": 5,
   "metadata": {},
   "outputs": [],
   "source": [
    "import torch"
   ]
  },
  {
   "cell_type": "code",
   "execution_count": 4,
   "metadata": {},
   "outputs": [],
   "source": [
    "# ! pip install -U sentence-transformers"
   ]
  },
  {
   "cell_type": "code",
   "execution_count": 6,
   "metadata": {},
   "outputs": [],
   "source": [
    "from loaders.elco_dataloader import get_loaders\n",
    "train_loader, test_loader = get_loaders(\"data/ELCo.csv\", batch_size=1, shuffle=True, num_workers=0)"
   ]
  },
  {
   "cell_type": "code",
   "execution_count": 7,
   "metadata": {},
   "outputs": [
    {
     "data": {
      "text/plain": [
       "[{0: [('hole',), ('face exhaling',), ('hole face exhaling',)],\n",
       "  1: [('disappointed face',),\n",
       "   ('disappointed face',),\n",
       "   ('disappointed face disappointed face',)],\n",
       "  2: [('face exhaling',), ('face exhaling',)],\n",
       "  3: [('face exhaling',), ('face exhaling',)],\n",
       "  4: [('face exhaling',),\n",
       "   ('sad but relieved face',),\n",
       "   ('confused face',),\n",
       "   ('face exhaling sad but relieved face confused face',)],\n",
       "  5: [('face exhaling',), ('face exhaling',)],\n",
       "  6: [('face exhaling',),\n",
       "   ('face exhaling',),\n",
       "   ('face exhaling face exhaling',)],\n",
       "  7: [('face with steam from nose',),\n",
       "   ('wind face',),\n",
       "   ('face with steam from nose wind face',)]},\n",
       " ('deep sigh',)]"
      ]
     },
     "execution_count": 7,
     "metadata": {},
     "output_type": "execute_result"
    }
   ],
   "source": [
    "iter(train_loader).next()"
   ]
  },
  {
   "cell_type": "code",
   "execution_count": 8,
   "metadata": {},
   "outputs": [
    {
     "name": "stdout",
     "output_type": "stream",
     "text": [
      "[('smiling face with smiling eyes',), ('house',), ('smiling face with smiling eyes house',)]\n"
     ]
    },
    {
     "data": {
      "text/plain": [
       "['smiling face with smiling eyes',\n",
       " 'house',\n",
       " 'smiling face with smiling eyes house']"
      ]
     },
     "execution_count": 8,
     "metadata": {},
     "output_type": "execute_result"
    }
   ],
   "source": [
    "value = iter(train_loader).next()\n",
    "from itertools import chain\n",
    "print(value[0][0])\n",
    "list(chain(*value[0][0]))"
   ]
  },
  {
   "cell_type": "code",
   "execution_count": 9,
   "metadata": {},
   "outputs": [
    {
     "data": {
      "text/plain": [
       "[{0: [('hot springs',),\n",
       "   ('smiling face with open hands',),\n",
       "   ('handshake',),\n",
       "   ('hot springs smiling face with open hands handshake',)],\n",
       "  1: [('hot springs',), ('waving hand',), ('hot springs waving hand',)],\n",
       "  2: [('hot face',), ('waving hand',), ('hot face waving hand',)],\n",
       "  3: [('waving hand',),\n",
       "   ('smiling face with hearts',),\n",
       "   ('waving hand smiling face with hearts',)],\n",
       "  4: [('smiling face with smiling eyes',),\n",
       "   ('waving hand',),\n",
       "   ('smiling face with smiling eyes waving hand',)],\n",
       "  5: [('waving hand',),\n",
       "   ('waving hand',),\n",
       "   ('waving hand',),\n",
       "   ('waving hand waving hand waving hand',)],\n",
       "  6: [('red heart',), ('waving hand',), ('red heart waving hand',)],\n",
       "  7: [('thermometer',), ('handshake',), ('thermometer handshake',)]},\n",
       " ('warm greeting',)]"
      ]
     },
     "execution_count": 9,
     "metadata": {},
     "output_type": "execute_result"
    }
   ],
   "source": [
    "iter(test_loader).next()"
   ]
  },
  {
   "cell_type": "code",
   "execution_count": 10,
   "metadata": {},
   "outputs": [
    {
     "name": "stdout",
     "output_type": "stream",
     "text": [
      "[('shorts',), ('passenger ship',), ('dashing away',), ('shorts passenger ship dashing away',)]\n",
      "['shorts', 'passenger ship', 'dashing away', 'shorts passenger ship dashing away']\n"
     ]
    },
    {
     "data": {
      "text/plain": [
       "((384,), (384,))"
      ]
     },
     "execution_count": 10,
     "metadata": {},
     "output_type": "execute_result"
    }
   ],
   "source": [
    "from sentence_transformers import SentenceTransformer\n",
    "model = SentenceTransformer('all-MiniLM-L6-v2')\n",
    "x, y = iter(train_loader).next()\n",
    "# flatten list of lists\n",
    "print(x[0])\n",
    "x = list(chain(*x[0]))\n",
    "print(x)\n",
    "x = model.encode(x)\n",
    "y = model.encode(y[0])\n",
    "x = x.mean(axis=0) # Going with a simple mean for now\n",
    "x.shape, y.shape"
   ]
  },
  {
   "cell_type": "code",
   "execution_count": 16,
   "metadata": {},
   "outputs": [],
   "source": [
    "\n",
    "class SimilarityMetrics:\n",
    "    def __init__(self, similarity_metric):\n",
    "        self.similarity_metric = similarity_metric\n",
    "    \n",
    "    def __call__(self, x_embedding, y_embedding):\n",
    "        return self.similarity_metric(x_embedding, y_embedding)\n",
    "\n",
    "class CosineSimilarity(SimilarityMetrics):\n",
    "    def __init__(self):\n",
    "        super().__init__(torch.nn.CosineSimilarity(dim=0))\n"
   ]
  },
  {
   "cell_type": "code",
   "execution_count": 17,
   "metadata": {},
   "outputs": [
    {
     "data": {
      "text/plain": [
       "tensor(0.3046)"
      ]
     },
     "execution_count": 17,
     "metadata": {},
     "output_type": "execute_result"
    }
   ],
   "source": [
    "CosineSimilarity()(torch.tensor(x), torch.tensor(y))"
   ]
  },
  {
   "cell_type": "code",
   "execution_count": null,
   "metadata": {},
   "outputs": [],
   "source": []
  }
 ],
 "metadata": {
  "kernelspec": {
   "display_name": "NLP",
   "language": "python",
   "name": "python3"
  },
  "language_info": {
   "codemirror_mode": {
    "name": "ipython",
    "version": 3
   },
   "file_extension": ".py",
   "mimetype": "text/x-python",
   "name": "python",
   "nbconvert_exporter": "python",
   "pygments_lexer": "ipython3",
   "version": "3.8.8"
  },
  "orig_nbformat": 4
 },
 "nbformat": 4,
 "nbformat_minor": 2
}
