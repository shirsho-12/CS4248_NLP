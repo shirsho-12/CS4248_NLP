{
 "cells": [
  {
   "cell_type": "code",
   "execution_count": 3,
   "metadata": {},
   "outputs": [],
   "source": [
    "import torch"
   ]
  },
  {
   "cell_type": "code",
   "execution_count": 4,
   "metadata": {},
   "outputs": [],
   "source": [
    "# ! pip install -U sentence-transformers"
   ]
  },
  {
   "cell_type": "code",
   "execution_count": 5,
   "metadata": {},
   "outputs": [],
   "source": [
    "from elco_dataloader import get_loaders\n",
    "train_loader, test_loader = get_loaders(\"data/ELCo.csv\", batch_size=1, shuffle=True, num_workers=0)"
   ]
  },
  {
   "cell_type": "code",
   "execution_count": 6,
   "metadata": {},
   "outputs": [
    {
     "data": {
      "text/plain": [
       "[{0: [('check mark',)],\n",
       "  1: [('check mark',), ('thumbs up',)],\n",
       "  2: [('right arrow',), ('hundred points',)],\n",
       "  3: [('thumbs up',), ('check mark button',)],\n",
       "  4: [('thumbs up',)],\n",
       "  5: [('hundred points',)],\n",
       "  6: [('speaking head',), ('check mark',)],\n",
       "  7: [('grinning face',), ('thumbs up',)]},\n",
       " ('right thing',)]"
      ]
     },
     "execution_count": 6,
     "metadata": {},
     "output_type": "execute_result"
    }
   ],
   "source": [
    "iter(train_loader).next()"
   ]
  },
  {
   "cell_type": "code",
   "execution_count": 7,
   "metadata": {},
   "outputs": [
    {
     "name": "stdout",
     "output_type": "stream",
     "text": [
      "[('broom',), ('cooking',), ('plunger',), ('shopping cart',), ('house',)]\n"
     ]
    },
    {
     "data": {
      "text/plain": [
       "['broom', 'cooking', 'plunger', 'shopping cart', 'house']"
      ]
     },
     "execution_count": 7,
     "metadata": {},
     "output_type": "execute_result"
    }
   ],
   "source": [
    "value = iter(train_loader).next()\n",
    "from itertools import chain\n",
    "print(value[0][0])\n",
    "list(chain(*value[0][0]))"
   ]
  },
  {
   "cell_type": "code",
   "execution_count": 8,
   "metadata": {},
   "outputs": [
    {
     "data": {
      "text/plain": [
       "[{0: [('fly',)],\n",
       "  1: [('fly',), ('neutral face',)],\n",
       "  2: [('busts in silhouette',), ('fly',)],\n",
       "  3: [('houses',),\n",
       "   ('houses',),\n",
       "   ('houses',),\n",
       "   ('fly',),\n",
       "   ('fly',),\n",
       "   ('fly',),\n",
       "   ('fly',),\n",
       "   ('fly',)],\n",
       "  4: [('palms up together',), ('fly',)],\n",
       "  5: [('fly',)],\n",
       "  6: [('busts in silhouette',), ('busts in silhouette',), ('fly',)],\n",
       "  7: [('house',), ('fly',)]},\n",
       " ('common housefly',)]"
      ]
     },
     "execution_count": 8,
     "metadata": {},
     "output_type": "execute_result"
    }
   ],
   "source": [
    "iter(test_loader).next()"
   ]
  },
  {
   "cell_type": "code",
   "execution_count": 9,
   "metadata": {},
   "outputs": [],
   "source": [
    "from sentence_transformers import SentenceTransformer\n",
    "model = SentenceTransformer('all-MiniLM-L6-v2')"
   ]
  },
  {
   "cell_type": "code",
   "execution_count": null,
   "metadata": {},
   "outputs": [],
   "source": []
  }
 ],
 "metadata": {
  "kernelspec": {
   "display_name": "NLP",
   "language": "python",
   "name": "python3"
  },
  "language_info": {
   "codemirror_mode": {
    "name": "ipython",
    "version": 3
   },
   "file_extension": ".py",
   "mimetype": "text/x-python",
   "name": "python",
   "nbconvert_exporter": "python",
   "pygments_lexer": "ipython3",
   "version": "3.8.8"
  },
  "orig_nbformat": 4
 },
 "nbformat": 4,
 "nbformat_minor": 2
}
